{
  "cells": [
    {
      "cell_type": "markdown",
      "metadata": {
        "id": "WwNzJlE_BXeo"
      },
      "source": [
        "1. Import Library"
      ]
    },
    {
      "cell_type": "code",
      "execution_count": 13,
      "metadata": {
        "id": "XfCc9BehBVYB"
      },
      "outputs": [],
      "source": [
        "import pandas as pd\n",
        "import numpy as np\n",
        "import matplotlib.pyplot as plt\n",
        "import seaborn as sns\n",
        "\n",
        "from sklearn.model_selection import train_test_split\n",
        "from sklearn.preprocessing import StandardScaler\n",
        "from sklearn.linear_model import LogisticRegression\n",
        "from sklearn.ensemble import GradientBoostingClassifier\n",
        "from sklearn.metrics import roc_auc_score, classification_report\n",
        "from sklearn.metrics import roc_curve\n",
        "\n",
        "import shap\n",
        "import warnings\n",
        "warnings.filterwarnings('ignore')"
      ]
    },
    {
      "cell_type": "markdown",
      "metadata": {},
      "source": [
        "2. Load Data Credit Scoring"
      ]
    },
    {
      "cell_type": "code",
      "execution_count": 14,
      "metadata": {
        "id": "_qrZEhAVDOUW"
      },
      "outputs": [],
      "source": [
        "file_path = \"../data/credit_scoring.csv\"\n",
        "data = pd.read_csv(file_path)\n"
      ]
    },
    {
      "cell_type": "code",
      "execution_count": 15,
      "metadata": {
        "colab": {
          "base_uri": "https://localhost:8080/"
        },
        "id": "EHHfoe7eDhbl",
        "outputId": "a98248e7-fc9d-48cb-ad8e-cdbece76a3e1"
      },
      "outputs": [
        {
          "data": {
            "text/html": [
              "<div>\n",
              "<style scoped>\n",
              "    .dataframe tbody tr th:only-of-type {\n",
              "        vertical-align: middle;\n",
              "    }\n",
              "\n",
              "    .dataframe tbody tr th {\n",
              "        vertical-align: top;\n",
              "    }\n",
              "\n",
              "    .dataframe thead th {\n",
              "        text-align: right;\n",
              "    }\n",
              "</style>\n",
              "<table border=\"1\" class=\"dataframe\">\n",
              "  <thead>\n",
              "    <tr style=\"text-align: right;\">\n",
              "      <th></th>\n",
              "      <th>application_id</th>\n",
              "      <th>age</th>\n",
              "      <th>monthly_income</th>\n",
              "      <th>loan_amount</th>\n",
              "      <th>previous_defaults</th>\n",
              "      <th>credit_score</th>\n",
              "      <th>default</th>\n",
              "      <th>leak_col_good</th>\n",
              "      <th>leak_col_subtle</th>\n",
              "    </tr>\n",
              "  </thead>\n",
              "  <tbody>\n",
              "    <tr>\n",
              "      <th>0</th>\n",
              "      <td>501000</td>\n",
              "      <td>41</td>\n",
              "      <td>13995609</td>\n",
              "      <td>5982664</td>\n",
              "      <td>0</td>\n",
              "      <td>624</td>\n",
              "      <td>0</td>\n",
              "      <td>0</td>\n",
              "      <td>-0.040</td>\n",
              "    </tr>\n",
              "    <tr>\n",
              "      <th>1</th>\n",
              "      <td>501001</td>\n",
              "      <td>58</td>\n",
              "      <td>13683833</td>\n",
              "      <td>3711198</td>\n",
              "      <td>0</td>\n",
              "      <td>809</td>\n",
              "      <td>0</td>\n",
              "      <td>0</td>\n",
              "      <td>0.001</td>\n",
              "    </tr>\n",
              "    <tr>\n",
              "      <th>2</th>\n",
              "      <td>501002</td>\n",
              "      <td>33</td>\n",
              "      <td>9417391</td>\n",
              "      <td>7172332</td>\n",
              "      <td>0</td>\n",
              "      <td>647</td>\n",
              "      <td>0</td>\n",
              "      <td>0</td>\n",
              "      <td>0.077</td>\n",
              "    </tr>\n",
              "    <tr>\n",
              "      <th>3</th>\n",
              "      <td>501003</td>\n",
              "      <td>45</td>\n",
              "      <td>6861811</td>\n",
              "      <td>8661056</td>\n",
              "      <td>0</td>\n",
              "      <td>450</td>\n",
              "      <td>0</td>\n",
              "      <td>0</td>\n",
              "      <td>0.038</td>\n",
              "    </tr>\n",
              "    <tr>\n",
              "      <th>4</th>\n",
              "      <td>501004</td>\n",
              "      <td>22</td>\n",
              "      <td>5640742</td>\n",
              "      <td>4520669</td>\n",
              "      <td>1</td>\n",
              "      <td>816</td>\n",
              "      <td>0</td>\n",
              "      <td>0</td>\n",
              "      <td>0.020</td>\n",
              "    </tr>\n",
              "  </tbody>\n",
              "</table>\n",
              "</div>"
            ],
            "text/plain": [
              "   application_id  age  monthly_income  loan_amount  previous_defaults  \\\n",
              "0          501000   41        13995609      5982664                  0   \n",
              "1          501001   58        13683833      3711198                  0   \n",
              "2          501002   33         9417391      7172332                  0   \n",
              "3          501003   45         6861811      8661056                  0   \n",
              "4          501004   22         5640742      4520669                  1   \n",
              "\n",
              "   credit_score  default  leak_col_good  leak_col_subtle  \n",
              "0           624        0              0           -0.040  \n",
              "1           809        0              0            0.001  \n",
              "2           647        0              0            0.077  \n",
              "3           450        0              0            0.038  \n",
              "4           816        0              0            0.020  "
            ]
          },
          "execution_count": 15,
          "metadata": {},
          "output_type": "execute_result"
        }
      ],
      "source": [
        "data.head()"
      ]
    },
    {
      "cell_type": "markdown",
      "metadata": {
        "id": "ffAQXS2aBdqp"
      },
      "source": [
        "3. Drop Leakage Columns (leak_col_good atau leak_col_subtle )"
      ]
    },
    {
      "cell_type": "code",
      "execution_count": 16,
      "metadata": {
        "id": "sYRVUPY8Bd6M"
      },
      "outputs": [],
      "source": [
        "data = data.drop(columns=[\"leak_col_good\", \"leak_col_subtle\"])"
      ]
    },
    {
      "cell_type": "code",
      "execution_count": 30,
      "metadata": {
        "colab": {
          "base_uri": "https://localhost:8080/"
        },
        "id": "ExxgnX9zD0uz",
        "outputId": "d4a1a76b-5b88-40fd-b355-e8b4683037ce"
      },
      "outputs": [
        {
          "data": {
            "text/html": [
              "<div>\n",
              "<style scoped>\n",
              "    .dataframe tbody tr th:only-of-type {\n",
              "        vertical-align: middle;\n",
              "    }\n",
              "\n",
              "    .dataframe tbody tr th {\n",
              "        vertical-align: top;\n",
              "    }\n",
              "\n",
              "    .dataframe thead th {\n",
              "        text-align: right;\n",
              "    }\n",
              "</style>\n",
              "<table border=\"1\" class=\"dataframe\">\n",
              "  <thead>\n",
              "    <tr style=\"text-align: right;\">\n",
              "      <th></th>\n",
              "      <th>application_id</th>\n",
              "      <th>age</th>\n",
              "      <th>monthly_income</th>\n",
              "      <th>loan_amount</th>\n",
              "      <th>previous_defaults</th>\n",
              "      <th>credit_score</th>\n",
              "      <th>default</th>\n",
              "    </tr>\n",
              "  </thead>\n",
              "  <tbody>\n",
              "    <tr>\n",
              "      <th>0</th>\n",
              "      <td>501000</td>\n",
              "      <td>41</td>\n",
              "      <td>13995609</td>\n",
              "      <td>5982664</td>\n",
              "      <td>0</td>\n",
              "      <td>624</td>\n",
              "      <td>0</td>\n",
              "    </tr>\n",
              "    <tr>\n",
              "      <th>1</th>\n",
              "      <td>501001</td>\n",
              "      <td>58</td>\n",
              "      <td>13683833</td>\n",
              "      <td>3711198</td>\n",
              "      <td>0</td>\n",
              "      <td>809</td>\n",
              "      <td>0</td>\n",
              "    </tr>\n",
              "    <tr>\n",
              "      <th>2</th>\n",
              "      <td>501002</td>\n",
              "      <td>33</td>\n",
              "      <td>9417391</td>\n",
              "      <td>7172332</td>\n",
              "      <td>0</td>\n",
              "      <td>647</td>\n",
              "      <td>0</td>\n",
              "    </tr>\n",
              "    <tr>\n",
              "      <th>3</th>\n",
              "      <td>501003</td>\n",
              "      <td>45</td>\n",
              "      <td>6861811</td>\n",
              "      <td>8661056</td>\n",
              "      <td>0</td>\n",
              "      <td>450</td>\n",
              "      <td>0</td>\n",
              "    </tr>\n",
              "    <tr>\n",
              "      <th>4</th>\n",
              "      <td>501004</td>\n",
              "      <td>22</td>\n",
              "      <td>5640742</td>\n",
              "      <td>4520669</td>\n",
              "      <td>1</td>\n",
              "      <td>816</td>\n",
              "      <td>0</td>\n",
              "    </tr>\n",
              "  </tbody>\n",
              "</table>\n",
              "</div>"
            ],
            "text/plain": [
              "   application_id  age  monthly_income  loan_amount  previous_defaults  \\\n",
              "0          501000   41        13995609      5982664                  0   \n",
              "1          501001   58        13683833      3711198                  0   \n",
              "2          501002   33         9417391      7172332                  0   \n",
              "3          501003   45         6861811      8661056                  0   \n",
              "4          501004   22         5640742      4520669                  1   \n",
              "\n",
              "   credit_score  default  \n",
              "0           624        0  \n",
              "1           809        0  \n",
              "2           647        0  \n",
              "3           450        0  \n",
              "4           816        0  "
            ]
          },
          "execution_count": 30,
          "metadata": {},
          "output_type": "execute_result"
        }
      ],
      "source": [
        "data.head()"
      ]
    },
    {
      "cell_type": "markdown",
      "metadata": {
        "id": "yohm3LoGBhPE"
      },
      "source": [
        "4. EDA"
      ]
    },
    {
      "cell_type": "code",
      "execution_count": 31,
      "metadata": {
        "colab": {
          "base_uri": "https://localhost:8080/"
        },
        "id": "FZ7N9ojZD5uy",
        "outputId": "c393cca1-8bf4-46c2-89fe-990da5bb8e78"
      },
      "outputs": [
        {
          "name": "stdout",
          "output_type": "stream",
          "text": [
            "<class 'pandas.core.frame.DataFrame'>\n",
            "RangeIndex: 6000 entries, 0 to 5999\n",
            "Data columns (total 7 columns):\n",
            " #   Column             Non-Null Count  Dtype\n",
            "---  ------             --------------  -----\n",
            " 0   application_id     6000 non-null   int64\n",
            " 1   age                6000 non-null   int64\n",
            " 2   monthly_income     6000 non-null   int64\n",
            " 3   loan_amount        6000 non-null   int64\n",
            " 4   previous_defaults  6000 non-null   int64\n",
            " 5   credit_score       6000 non-null   int64\n",
            " 6   default            6000 non-null   int64\n",
            "dtypes: int64(7)\n",
            "memory usage: 328.3 KB\n"
          ]
        }
      ],
      "source": [
        "data.info()"
      ]
    },
    {
      "cell_type": "code",
      "execution_count": null,
      "metadata": {
        "colab": {
          "base_uri": "https://localhost:8080/"
        },
        "id": "CwPdZTW9D-W0",
        "outputId": "c8c12525-a3bb-4088-8f7e-0ad61f666927"
      },
      "outputs": [
        {
          "name": "stdout",
          "output_type": "stream",
          "text": [
            "       application_id          age  monthly_income   loan_amount  \\\n",
            "count     6000.000000  6000.000000    6.000000e+03  6.000000e+03   \n",
            "mean    503999.500000    40.321500    1.140386e+07  8.001122e+06   \n",
            "std       1732.195139    11.300697    4.912598e+06  4.071786e+06   \n",
            "min     501000.000000    21.000000    3.000310e+06  1.000794e+06   \n",
            "25%     502499.750000    31.000000    7.163379e+06  4.440939e+06   \n",
            "50%     503999.500000    41.000000    1.129945e+07  7.982304e+06   \n",
            "75%     505499.250000    50.000000    1.573705e+07  1.153144e+07   \n",
            "max     506999.000000    59.000000    1.998622e+07  1.499858e+07   \n",
            "\n",
            "       previous_defaults  credit_score      default  \n",
            "count        6000.000000   6000.000000  6000.000000  \n",
            "mean            0.243667    575.979833     0.012167  \n",
            "std             0.484767    158.328931     0.109639  \n",
            "min             0.000000    300.000000     0.000000  \n",
            "25%             0.000000    438.750000     0.000000  \n",
            "50%             0.000000    577.500000     0.000000  \n",
            "75%             0.000000    713.000000     0.000000  \n",
            "max             3.000000    849.000000     1.000000  \n"
          ]
        }
      ],
      "source": [
        "data.describe()"
      ]
    },
    {
      "cell_type": "code",
      "execution_count": 32,
      "metadata": {
        "colab": {
          "base_uri": "https://localhost:8080/"
        },
        "id": "r0yNl4WhBhYF",
        "outputId": "8e0f1afc-754a-4e86-adc0-b331714de7c8"
      },
      "outputs": [
        {
          "data": {
            "text/plain": [
              "default\n",
              "0    0.987833\n",
              "1    0.012167\n",
              "Name: proportion, dtype: float64"
            ]
          },
          "execution_count": 32,
          "metadata": {},
          "output_type": "execute_result"
        }
      ],
      "source": [
        "data[\"default\"].value_counts(normalize=True)"
      ]
    },
    {
      "cell_type": "markdown",
      "metadata": {
        "id": "7tmDJNCNBhgN"
      },
      "source": [
        "5. Preprocessing Data"
      ]
    },
    {
      "cell_type": "code",
      "execution_count": null,
      "metadata": {
        "id": "yHMFVzUuBhoi"
      },
      "outputs": [],
      "source": [
        "X = data.drop(columns=[\"default\"])\n",
        "y = data[\"default\"]\n",
        "\n",
        "numeric_cols = X.select_dtypes(include=np.number).columns\n",
        "scaler = StandardScaler()\n",
        "X[numeric_cols] = scaler.fit_transform(X[numeric_cols])\n",
        "\n",
        "X_train, X_test, y_train, y_test = train_test_split(X, y, stratify=y, test_size=0.2, random_state=42)"
      ]
    },
    {
      "cell_type": "markdown",
      "metadata": {
        "id": "3IU2MVw5Bh0-"
      },
      "source": [
        "6. Baseline Model - Logistic Regression"
      ]
    },
    {
      "cell_type": "code",
      "execution_count": 39,
      "metadata": {},
      "outputs": [
        {
          "name": "stdout",
          "output_type": "stream",
          "text": [
            "AUC Logistic Regression: 0.770182841068917\n",
            "              precision    recall  f1-score   support\n",
            "\n",
            "           0       0.99      1.00      0.99      1185\n",
            "           1       0.00      0.00      0.00        15\n",
            "\n",
            "    accuracy                           0.99      1200\n",
            "   macro avg       0.49      0.50      0.50      1200\n",
            "weighted avg       0.98      0.99      0.98      1200\n",
            "\n"
          ]
        }
      ],
      "source": [
        "model_lr = LogisticRegression(max_iter=1000)\n",
        "model_lr.fit(X_train, y_train)\n",
        "\n",
        "y_pred_proba_lr = model_lr.predict_proba(X_test)[:, 1]\n",
        "y_pred_lr = model_lr.predict(X_test)\n",
        "\n",
        "print(\"AUC Logistic Regression:\", roc_auc_score(y_test, y_pred_proba_lr))\n",
        "print(classification_report(y_test, y_pred_lr))"
      ]
    },
    {
      "cell_type": "markdown",
      "metadata": {
        "id": "1avlcYyGBvru"
      },
      "source": [
        "7. Gradient Boosting"
      ]
    },
    {
      "cell_type": "code",
      "execution_count": 24,
      "metadata": {
        "colab": {
          "base_uri": "https://localhost:8080/"
        },
        "id": "1lxAjkWCiidb",
        "outputId": "a6d2e144-de5e-4974-dacb-27785be632bb"
      },
      "outputs": [
        {
          "name": "stdout",
          "output_type": "stream",
          "text": [
            "AUC Gradient Boosting: 0.7237412095639943\n",
            "              precision    recall  f1-score   support\n",
            "\n",
            "           0       0.99      1.00      0.99      1185\n",
            "           1       0.00      0.00      0.00        15\n",
            "\n",
            "    accuracy                           0.98      1200\n",
            "   macro avg       0.49      0.50      0.50      1200\n",
            "weighted avg       0.98      0.98      0.98      1200\n",
            "\n"
          ]
        }
      ],
      "source": [
        "model_gb = GradientBoostingClassifier()\n",
        "model_gb.fit(X_train, y_train)\n",
        "\n",
        "y_pred_proba_gb = model_gb.predict_proba(X_test)[:, 1]\n",
        "y_pred_gb = model_gb.predict(X_test)\n",
        "\n",
        "print(\"AUC Gradient Boosting:\", roc_auc_score(y_test, y_pred_proba_gb))\n",
        "print(classification_report(y_test, y_pred_gb))"
      ]
    },
    {
      "cell_type": "code",
      "execution_count": 33,
      "metadata": {
        "colab": {
          "base_uri": "https://localhost:8080/",
          "height": 472
        },
        "id": "JbbPj3_miono",
        "outputId": "cb697819-c7f6-4409-945a-3d1ff259d426"
      },
      "outputs": [
        {
          "data": {
            "image/png": "[encoded data removed]",
            "text/plain": [
              "<Figure size 640x480 with 1 Axes>"
            ]
          },
          "metadata": {},
          "output_type": "display_data"
        }
      ],
      "source": [
        "fpr, tpr, thresholds = roc_curve(y_test, y_pred_proba_gb)\n",
        "plt.plot(fpr, tpr, label=\"Gradient Boosting\")\n",
        "plt.plot([0, 1], [0, 1], linestyle=\"--\", color=\"gray\")\n",
        "plt.xlabel(\"False Positive Rate\")\n",
        "plt.ylabel(\"True Positive Rate\")\n",
        "plt.title(\"ROC Curve\")\n",
        "plt.legend()\n",
        "plt.grid()\n",
        "plt.show()"
      ]
    },
    {
      "cell_type": "markdown",
      "metadata": {
        "id": "hggg5EPmBv4_"
      },
      "source": [
        "8. Fungsi scorecard(prob) → skala 300-850 (referensi industri) "
      ]
    },
    {
      "cell_type": "code",
      "execution_count": 26,
      "metadata": {
        "id": "61GL4h3-BwAf"
      },
      "outputs": [],
      "source": [
        "def scorecard(prob, min_score=300, max_score=850):\n",
        "    return min_score + (max_score - min_score) * (1 - prob)\n",
        "\n",
        "credit_scores = scorecard(y_pred_proba_gb)"
      ]
    },
    {
      "cell_type": "code",
      "execution_count": 27,
      "metadata": {
        "colab": {
          "base_uri": "https://localhost:8080/"
        },
        "id": "zrP9pm0xjC8K",
        "outputId": "e6ed4153-9d01-408d-ad3a-e59e86874e7b"
      },
      "outputs": [
        {
          "name": "stdout",
          "output_type": "stream",
          "text": [
            "   Probability  Credit Score\n",
            "0     0.001741    849.042319\n",
            "1     0.004631    847.452896\n",
            "2     0.000540    849.703192\n",
            "3     0.002810    848.454600\n",
            "4     0.004488    847.531867\n"
          ]
        }
      ],
      "source": [
        "data_scores = pd.DataFrame({\n",
        "    'Probability': y_pred_proba_gb,\n",
        "    'Credit Score': credit_scores\n",
        "})\n",
        "\n",
        "print(data_scores.head())"
      ]
    },
    {
      "cell_type": "markdown",
      "metadata": {
        "id": "E2xcLGu5BwHK"
      },
      "source": [
        "9. Interpretasi SHAP"
      ]
    },
    {
      "cell_type": "code",
      "execution_count": 28,
      "metadata": {
        "colab": {
          "base_uri": "https://localhost:8080/",
          "height": 397
        },
        "id": "C1E4letfBwM_",
        "outputId": "54b0eb52-878d-4204-ddfe-47733e9abbf6"
      },
      "outputs": [
        {
          "data": {
            "image/png": "[encoded data removed]",
            "text/plain": [
              "<Figure size 800x390 with 2 Axes>"
            ]
          },
          "metadata": {},
          "output_type": "display_data"
        }
      ],
      "source": [
        "explainer = shap.Explainer(model_gb, X_test)\n",
        "shap_values = explainer(X_test)\n",
        "\n",
        "# Summary Plot - Top 10 Features\n",
        "shap.summary_plot(shap_values, X_test, max_display=10, show=False)\n",
        "\n",
        "plt.tight_layout()\n",
        "plt.savefig(\"shap_top10.png\")"
      ]
    }
  ],
  "metadata": {
    "colab": {
      "provenance": []
    },
    "kernelspec": {
      "display_name": "Python 3",
      "name": "python3"
    },
    "language_info": {
      "codemirror_mode": {
        "name": "ipython",
        "version": 3
      },
      "file_extension": ".py",
      "mimetype": "text/x-python",
      "name": "python",
      "nbconvert_exporter": "python",
      "pygments_lexer": "ipython3",
      "version": "3.11.4"
    }
  },
  "nbformat": 4,
  "nbformat_minor": 0
}
